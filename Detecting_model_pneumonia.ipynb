{
 "cells": [
  {
   "cell_type": "code",
   "execution_count": 1,
   "metadata": {},
   "outputs": [],
   "source": [
    "import torch\n",
    "import torchvision\n",
    "import torch.nn as nn\n",
    "import torchvision.transforms as transforms\n",
    "from torch.utils.data import Dataset, DataLoader, random_split\n",
    "import os\n",
    "import pandas as pd\n",
    "from PIL import Image\n",
    "import numpy as np\n",
    "import matplotlib.pyplot as plt"
   ]
  },
  {
   "cell_type": "code",
   "execution_count": 2,
   "metadata": {},
   "outputs": [],
   "source": [
    "labels = ['PNEUMONIA', 'NORMAL']\n",
    "dataset = []\n",
    "test_DS = []\n",
    "val_DS = []\n",
    "\n",
    "# Populate the dataset list for training\n",
    "\n",
    "for label in labels:\n",
    "    path = os.path.join(\"./Dataset/chest_xray/train\", label)\n",
    "    class_num = labels.index(label)\n",
    "    for img_name in os.listdir(path):\n",
    "        dataset.append({\"img_name\": os.path.join(label, img_name), \"label\": class_num})\n",
    "\n",
    "# Populate the dataset list for testing\n",
    "\n",
    "for label in labels:\n",
    "    path = os.path.join(\"./Dataset/chest_xray/test\", label)\n",
    "    class_num = labels.index(label)\n",
    "    for img_name in os.listdir(path):\n",
    "        test_DS.append({\"img_name\": os.path.join(label, img_name), \"label\": class_num})\n",
    "\n",
    "# Populate the dataset list for validation\n",
    "\n",
    "for label in labels:\n",
    "    path = os.path.join(\"./Dataset/chest_xray/val\", label)\n",
    "    class_num = labels.index(label)\n",
    "    for img_name in os.listdir(path):\n",
    "        val_DS.append({\"img_name\": os.path.join(label, img_name), \"label\": class_num})\n"
   ]
  },
  {
   "cell_type": "code",
   "execution_count": 3,
   "metadata": {},
   "outputs": [],
   "source": [
    "train_df = pd.DataFrame(dataset)\n",
    "test_df = pd.DataFrame(test_DS)\n",
    "val_df = pd.DataFrame(val_DS)\n"
   ]
  },
  {
   "cell_type": "code",
   "execution_count": 4,
   "metadata": {},
   "outputs": [],
   "source": [
    "img_size = 150\n",
    "transform = transforms.Compose([\n",
    "    transforms.Grayscale(),\n",
    "    transforms.Resize((img_size, img_size)),\n",
    "    transforms.ToTensor()\n",
    "])"
   ]
  },
  {
   "cell_type": "code",
   "execution_count": 5,
   "metadata": {},
   "outputs": [],
   "source": [
    "class CustomDataset(Dataset):\n",
    "    def __init__(self, root_dir, annotation_file, transform=None):\n",
    "        self.dataframe = annotation_file\n",
    "        self.root_dir = root_dir\n",
    "        self.transform = transform\n",
    "\n",
    "    def __len__(self):\n",
    "        return len(self.dataframe)\n",
    "\n",
    "    def __getitem__(self, index):\n",
    "        img_name = os.path.join(self.root_dir, self.dataframe.iloc[index, 0])\n",
    "        image = Image.open(img_name).convert(\"RGB\")\n",
    "        label = int(self.dataframe.iloc[index, 1])\n",
    "\n",
    "        if self.transform:\n",
    "            image = self.transform(image)\n",
    "\n",
    "        return image, label"
   ]
  },
  {
   "cell_type": "code",
   "execution_count": 6,
   "metadata": {},
   "outputs": [],
   "source": [
    "train_dataset = CustomDataset(root_dir=\"./Dataset/chest_xray/train\", annotation_file=train_df, transform=transform)\n",
    "train_loader = DataLoader(train_dataset, batch_size=32, shuffle=True)\n",
    "\n",
    "test_dataset = CustomDataset(root_dir=\"./Dataset/chest_xray/test\", annotation_file=test_df, transform=transform)\n",
    "test_loader = DataLoader(test_dataset, batch_size=32, shuffle=False)\n",
    "\n",
    "val_dataset = CustomDataset(root_dir=\"./Dataset/chest_xray/val\", annotation_file=val_df, transform=transform)\n",
    "val_loader = DataLoader(val_dataset, batch_size=32, shuffle=False)"
   ]
  },
  {
   "cell_type": "code",
   "execution_count": 7,
   "metadata": {},
   "outputs": [],
   "source": [
    "class ConvNeuralNetwork(nn.Module):\n",
    "    def __init__(self, num_classes):\n",
    "        super(ConvNeuralNetwork, self).__init__()\n",
    "        self.conv1 = nn.Conv2d(in_channels=1, out_channels=32, kernel_size=3, padding=1)\n",
    "        self.conv2 = nn.Conv2d(in_channels=32, out_channels=32, kernel_size=5, padding=2)\n",
    "        self.maxpool1 = nn.MaxPool2d(kernel_size=2, stride=2)\n",
    "\n",
    "        self.conv3 = nn.Conv2d(in_channels=32, out_channels=64, kernel_size=7, padding=3)\n",
    "        self.conv4 = nn.Conv2d(in_channels=64, out_channels=64, kernel_size=11, padding=4)\n",
    "        self.maxpool2 = nn.MaxPool2d(kernel_size=2, stride=2)\n",
    "\n",
    "        self._initialize_fc_input_size(img_size)\n",
    "        self.fc1 = nn.Linear(self.fc_input_size, 128)\n",
    "        self.relu1 = nn.ReLU()\n",
    "        self.fc2 = nn.Linear(128, num_classes)\n",
    "\n",
    "    def _initialize_fc_input_size(self, img_size):\n",
    "        # Dummy forward pass to calculate input size for fully connected layer\n",
    "        x = torch.randn(1, 1, img_size, img_size)\n",
    "        x = self.conv1(x)\n",
    "        x = self.conv2(x)\n",
    "        x = self.maxpool1(x)\n",
    "        x = self.conv3(x)\n",
    "        x = self.conv4(x)\n",
    "        x = self.maxpool2(x)\n",
    "        self.fc_input_size = x.view(x.size(0), -1).size(1)\n",
    "\n",
    "    def forward(self, x):\n",
    "        out = self.conv1(x)\n",
    "        out = self.conv2(out)\n",
    "        out = self.maxpool1(out)\n",
    "        out = self.conv3(out)\n",
    "        out = self.conv4(out)\n",
    "        out = self.maxpool2(out)\n",
    "        out = out.view(out.size(0), -1)\n",
    "        out = self.fc1(out)\n",
    "        out = self.relu1(out)\n",
    "        out = self.fc2(out)\n",
    "        return out"
   ]
  },
  {
   "cell_type": "code",
   "execution_count": 8,
   "metadata": {},
   "outputs": [
    {
     "name": "stderr",
     "output_type": "stream",
     "text": [
      "C:\\Users\\iamgo\\AppData\\Local\\Temp\\ipykernel_17592\\340878123.py:6: FutureWarning: You are using `torch.load` with `weights_only=False` (the current default value), which uses the default pickle module implicitly. It is possible to construct malicious pickle data which will execute arbitrary code during unpickling (See https://github.com/pytorch/pytorch/blob/main/SECURITY.md#untrusted-models for more details). In a future release, the default value for `weights_only` will be flipped to `True`. This limits the functions that could be executed during unpickling. Arbitrary objects will no longer be allowed to be loaded via this mode unless they are explicitly allowlisted by the user via `torch.serialization.add_safe_globals`. We recommend you start setting `weights_only=True` for any use case where you don't have full control of the loaded file. Please open an issue on GitHub for any issues related to this experimental feature.\n",
      "  model.load_state_dict(torch.load(\"lungs.pth\"))\n"
     ]
    }
   ],
   "source": [
    "batch_size = 32\n",
    "num_classes = 2\n",
    "learning_rate = 0.001\n",
    "num_epochs = 2\n",
    "model = ConvNeuralNetwork(num_classes)\n",
    "model.load_state_dict(torch.load(\"lungs.pth\"))\n",
    "criterion = nn.CrossEntropyLoss()\n",
    "optimizer = torch.optim.SGD(model.parameters(), lr=learning_rate, weight_decay=0.005, momentum=0.9)\n"
   ]
  },
  {
   "cell_type": "code",
   "execution_count": null,
   "metadata": {},
   "outputs": [],
   "source": [
    "for epoch in range(num_epochs):\n",
    "    model.train()\n",
    "    running_loss = 0.0\n",
    "    n=0\n",
    "    for inputs, labels in train_loader:\n",
    "        optimizer.zero_grad()\n",
    "        y_pred = model(inputs)\n",
    "        loss = criterion(y_pred, labels)\n",
    "        n=n+1\n",
    "        print(f\"{n}-loss:{loss.item():.4f}\")\n",
    "        loss.backward()\n",
    "        optimizer.step()\n",
    "        running_loss += loss.item()\n",
    "    \n",
    "    model.eval()\n",
    "    with torch.no_grad():\n",
    "        test_acc = 0\n",
    "        count = 0\n",
    "        for inputs, labels in test_loader:\n",
    "            y_pred = model(inputs)\n",
    "            test_acc += (torch.argmax(y_pred, 1) == labels).float().sum()\n",
    "            count += len(labels)\n",
    "        test_acc /= count\n",
    "\n",
    "    print(f\"Epoch [{epoch+1}/{num_epochs}], Loss: {running_loss/len(train_loader):.4f}, Test Accuracy: {test_acc*100:.2f}%\")\n"
   ]
  },
  {
   "cell_type": "code",
   "execution_count": null,
   "metadata": {},
   "outputs": [],
   "source": [
    "model.eval()\n",
    "val_acc = 0\n",
    "val_count = 0\n",
    "with torch.no_grad():\n",
    "    for inputs, labels in val_loader:\n",
    "        y_pred = model(inputs)\n",
    "        \n",
    "        # Get predicted and actual labels\n",
    "        predicted_labels = torch.argmax(y_pred, 1)\n",
    "        \n",
    "        # Print predicted and actual values\n",
    "        for pred, actual in zip(predicted_labels, labels):\n",
    "            print(f\"Predicted: {pred.item()}, Actual: {actual.item()}\")\n",
    "        \n",
    "        val_acc += (predicted_labels == labels).float().sum()\n",
    "        val_count += len(labels)\n",
    "val_acc /= val_count\n",
    "print(f\"Validation Accuracy: {val_acc*100:.2f}%\")"
   ]
  },
  {
   "cell_type": "code",
   "execution_count": null,
   "metadata": {},
   "outputs": [],
   "source": [
    "# Save model\n",
    "torch.save(model.state_dict(), \"lungs.pth\")"
   ]
  },
  {
   "cell_type": "code",
   "execution_count": 9,
   "metadata": {},
   "outputs": [
    {
     "name": "stdout",
     "output_type": "stream",
     "text": [
      "Model has been converted to ONNX format and saved at lungs.onnx\n"
     ]
    }
   ],
   "source": [
    "import torch\n",
    "img_s=(150,150)\n",
    "bat_size=1\n",
    "onnx_model_path='lungs.onnx'\n",
    "model.eval()\n",
    "sample_inp=torch.rand((bat_size,1,*img_s))\n",
    "\n",
    "y=model(sample_inp)\n",
    "torch.onnx.export(\n",
    "    model,\n",
    "    sample_inp,\n",
    "    onnx_model_path,\n",
    "    verbose=False,\n",
    "    input_names=['input'],\n",
    "    output_names=['output'],\n",
    "    opset_version=12\n",
    ")\n",
    "print(f\"Model has been converted to ONNX format and saved at {onnx_model_path}\")"
   ]
  },
  {
   "cell_type": "code",
   "execution_count": 11,
   "metadata": {},
   "outputs": [],
   "source": [
    "import onnx\n",
    "from onnx_tf.backend import prepare\n"
   ]
  },
  {
   "cell_type": "code",
   "execution_count": 12,
   "metadata": {},
   "outputs": [
    {
     "name": "stderr",
     "output_type": "stream",
     "text": [
      "INFO:absl:Function `__call__` contains input name(s) x with unsupported characters which will be renamed to transpose_17_x in the SavedModel.\n",
      "INFO:absl:Found untraced functions such as gen_tensor_dict while saving (showing 1 of 1). These functions will not be directly callable after loading.\n"
     ]
    },
    {
     "name": "stdout",
     "output_type": "stream",
     "text": [
      "INFO:tensorflow:Assets written to: model_tf\\assets\n"
     ]
    },
    {
     "name": "stderr",
     "output_type": "stream",
     "text": [
      "INFO:tensorflow:Assets written to: model_tf\\assets\n",
      "INFO:absl:Writing fingerprint to model_tf\\fingerprint.pb\n"
     ]
    }
   ],
   "source": [
    "onnx_model_path='lungs.onnx'\n",
    "tf_model_path='model_tf'\n",
    "onnx_model=onnx.load(onnx_model_path)\n",
    "tf_rep=prepare(onnx_model)\n",
    "tf_rep.export_graph(tf_model_path)"
   ]
  },
  {
   "cell_type": "code",
   "execution_count": 13,
   "metadata": {},
   "outputs": [],
   "source": [
    "import tensorflow as tf\n",
    "saved_model_dir='model_tf'\n",
    "tflite_model_path='model.tflite'"
   ]
  },
  {
   "cell_type": "code",
   "execution_count": 14,
   "metadata": {},
   "outputs": [],
   "source": [
    "converter=tf.lite.TFLiteConverter.from_saved_model(saved_model_dir)\n",
    "tflite_model=converter.convert()"
   ]
  },
  {
   "cell_type": "code",
   "execution_count": 15,
   "metadata": {},
   "outputs": [],
   "source": [
    "with open(tflite_model_path,'wb') as f:\n",
    "    f.write(tflite_model)"
   ]
  },
  {
   "cell_type": "code",
   "execution_count": 17,
   "metadata": {},
   "outputs": [
    {
     "name": "stdout",
     "output_type": "stream",
     "text": [
      "[[ 0.7542044 -0.6305524]]\n"
     ]
    }
   ],
   "source": [
    "interpreter=tf.lite.Interpreter(model_path=tflite_model_path)\n",
    "interpreter.allocate_tensors()\n",
    "\n",
    "input_details=interpreter.get_input_details()\n",
    "output_details=interpreter.get_output_details()\n",
    "\n",
    "input_shape=input_details[0]['shape']\n",
    "input_data=np.array(np.random.random_sample(input_shape),dtype=np.float32)\n",
    "\n",
    "interpreter.set_tensor(input_details[0]['index'],input_data)\n",
    "\n",
    "interpreter.invoke()\n",
    "output_data =interpreter.get_tensor(output_details[0]['index'])\n",
    "print(output_data)"
   ]
  },
  {
   "cell_type": "code",
   "execution_count": null,
   "metadata": {},
   "outputs": [],
   "source": [
    "converter=tf.lite.TFLiteConverter.from_saved_model(saved_model_dir)\n",
    "tflite"
   ]
  },
  {
   "cell_type": "code",
   "execution_count": 12,
   "metadata": {},
   "outputs": [
    {
     "name": "stdout",
     "output_type": "stream",
     "text": [
      "Requirement already satisfied: numpy in c:\\users\\iamgo\\anaconda3\\lib\\site-packages (1.26.4)\n",
      "Note: you may need to restart the kernel to use updated packages.\n"
     ]
    }
   ],
   "source": [
    "%pip install numpy"
   ]
  },
  {
   "cell_type": "code",
   "execution_count": 13,
   "metadata": {},
   "outputs": [
    {
     "name": "stdout",
     "output_type": "stream",
     "text": [
      "Requirement already satisfied: matplotlib in c:\\users\\iamgo\\anaconda3\\lib\\site-packages (3.8.4)Note: you may need to restart the kernel to use updated packages.\n",
      "\n",
      "Requirement already satisfied: contourpy>=1.0.1 in c:\\users\\iamgo\\anaconda3\\lib\\site-packages (from matplotlib) (1.2.0)\n",
      "Requirement already satisfied: cycler>=0.10 in c:\\users\\iamgo\\anaconda3\\lib\\site-packages (from matplotlib) (0.11.0)\n",
      "Requirement already satisfied: fonttools>=4.22.0 in c:\\users\\iamgo\\anaconda3\\lib\\site-packages (from matplotlib) (4.51.0)\n",
      "Requirement already satisfied: kiwisolver>=1.3.1 in c:\\users\\iamgo\\anaconda3\\lib\\site-packages (from matplotlib) (1.4.4)\n",
      "Requirement already satisfied: numpy>=1.21 in c:\\users\\iamgo\\anaconda3\\lib\\site-packages (from matplotlib) (1.26.4)\n",
      "Requirement already satisfied: packaging>=20.0 in c:\\users\\iamgo\\anaconda3\\lib\\site-packages (from matplotlib) (24.1)\n",
      "Requirement already satisfied: pillow>=8 in c:\\users\\iamgo\\anaconda3\\lib\\site-packages (from matplotlib) (10.4.0)\n",
      "Requirement already satisfied: pyparsing>=2.3.1 in c:\\users\\iamgo\\anaconda3\\lib\\site-packages (from matplotlib) (3.0.9)\n",
      "Requirement already satisfied: python-dateutil>=2.7 in c:\\users\\iamgo\\anaconda3\\lib\\site-packages (from matplotlib) (2.9.0.post0)\n",
      "Requirement already satisfied: six>=1.5 in c:\\users\\iamgo\\anaconda3\\lib\\site-packages (from python-dateutil>=2.7->matplotlib) (1.16.0)\n"
     ]
    }
   ],
   "source": [
    "%pip install matplotlib"
   ]
  },
  {
   "cell_type": "code",
   "execution_count": 14,
   "metadata": {},
   "outputs": [
    {
     "name": "stdout",
     "output_type": "stream",
     "text": [
      "Requirement already satisfied: onnx in c:\\users\\iamgo\\anaconda3\\lib\\site-packages (1.16.2)\n",
      "Requirement already satisfied: numpy>=1.20 in c:\\users\\iamgo\\anaconda3\\lib\\site-packages (from onnx) (1.26.4)\n",
      "Requirement already satisfied: protobuf>=3.20.2 in c:\\users\\iamgo\\anaconda3\\lib\\site-packages (from onnx) (5.27.3)\n",
      "Note: you may need to restart the kernel to use updated packages.\n"
     ]
    }
   ],
   "source": [
    "%pip install onnx\n"
   ]
  },
  {
   "cell_type": "code",
   "execution_count": 15,
   "metadata": {},
   "outputs": [
    {
     "name": "stdout",
     "output_type": "stream",
     "text": [
      "Collecting tensorflow-addonsNote: you may need to restart the kernel to use updated packages.\n",
      "\n",
      "  Downloading tensorflow_addons-0.22.0-cp311-cp311-win_amd64.whl.metadata (1.8 kB)\n",
      "Collecting typeguard<3.0.0,>=2.7 (from tensorflow-addons)\n",
      "  Using cached typeguard-2.13.3-py3-none-any.whl.metadata (3.6 kB)\n",
      "Requirement already satisfied: packaging in c:\\users\\iamgo\\anaconda3\\lib\\site-packages (from tensorflow-addons) (24.1)\n",
      "Downloading tensorflow_addons-0.22.0-cp311-cp311-win_amd64.whl (719 kB)\n",
      "   ---------------------------------------- 0.0/719.8 kB ? eta -:--:--\n",
      "   ---------------------------------------- 0.0/719.8 kB ? eta -:--:--\n",
      "    --------------------------------------- 10.2/719.8 kB ? eta -:--:--\n",
      "    --------------------------------------- 10.2/719.8 kB ? eta -:--:--\n",
      "    --------------------------------------- 10.2/719.8 kB ? eta -:--:--\n",
      "   - ------------------------------------- 30.7/719.8 kB 131.3 kB/s eta 0:00:06\n",
      "   - ------------------------------------- 30.7/719.8 kB 131.3 kB/s eta 0:00:06\n",
      "   - ------------------------------------- 30.7/719.8 kB 131.3 kB/s eta 0:00:06\n",
      "   -- ------------------------------------ 41.0/719.8 kB 115.9 kB/s eta 0:00:06\n",
      "   --- ----------------------------------- 61.4/719.8 kB 156.1 kB/s eta 0:00:05\n",
      "   ---- ---------------------------------- 81.9/719.8 kB 199.7 kB/s eta 0:00:04\n",
      "   ---- ---------------------------------- 92.2/719.8 kB 210.1 kB/s eta 0:00:03\n",
      "   ----- -------------------------------- 112.6/719.8 kB 218.3 kB/s eta 0:00:03\n",
      "   ------ ------------------------------- 122.9/719.8 kB 212.1 kB/s eta 0:00:03\n",
      "   ------- ------------------------------ 143.4/719.8 kB 230.3 kB/s eta 0:00:03\n",
      "   -------- ----------------------------- 163.8/719.8 kB 252.2 kB/s eta 0:00:03\n",
      "   -------- ----------------------------- 163.8/719.8 kB 252.2 kB/s eta 0:00:03\n",
      "   --------- ---------------------------- 174.1/719.8 kB 243.8 kB/s eta 0:00:03\n",
      "   ---------- --------------------------- 194.6/719.8 kB 251.1 kB/s eta 0:00:03\n",
      "   ---------- --------------------------- 194.6/719.8 kB 251.1 kB/s eta 0:00:03\n",
      "   ---------- --------------------------- 204.8/719.8 kB 230.5 kB/s eta 0:00:03\n",
      "   ---------- --------------------------- 204.8/719.8 kB 230.5 kB/s eta 0:00:03\n",
      "   ------------ ------------------------- 245.8/719.8 kB 251.4 kB/s eta 0:00:02\n",
      "   ------------- ------------------------ 256.0/719.8 kB 257.9 kB/s eta 0:00:02\n",
      "   --------------- ---------------------- 286.7/719.8 kB 272.4 kB/s eta 0:00:02\n",
      "   --------------- ---------------------- 286.7/719.8 kB 272.4 kB/s eta 0:00:02\n",
      "   ----------------- -------------------- 327.7/719.8 kB 282.2 kB/s eta 0:00:02\n",
      "   ----------------- -------------------- 337.9/719.8 kB 279.6 kB/s eta 0:00:02\n",
      "   ----------------- -------------------- 337.9/719.8 kB 279.6 kB/s eta 0:00:02\n",
      "   ----------------- -------------------- 337.9/719.8 kB 279.6 kB/s eta 0:00:02\n",
      "   ----------------- -------------------- 337.9/719.8 kB 279.6 kB/s eta 0:00:02\n",
      "   ----------------- -------------------- 337.9/719.8 kB 279.6 kB/s eta 0:00:02\n",
      "   ----------------- -------------------- 337.9/719.8 kB 279.6 kB/s eta 0:00:02\n",
      "   ----------------- -------------------- 337.9/719.8 kB 279.6 kB/s eta 0:00:02\n",
      "   ----------------- -------------------- 337.9/719.8 kB 279.6 kB/s eta 0:00:02\n",
      "   ----------------- -------------------- 337.9/719.8 kB 279.6 kB/s eta 0:00:02\n",
      "   ----------------- -------------------- 337.9/719.8 kB 279.6 kB/s eta 0:00:02\n",
      "   ----------------- -------------------- 337.9/719.8 kB 279.6 kB/s eta 0:00:02\n",
      "   ---------------------- --------------- 419.8/719.8 kB 245.0 kB/s eta 0:00:02\n",
      "   ----------------------- -------------- 440.3/719.8 kB 248.0 kB/s eta 0:00:02\n",
      "   ----------------------- -------------- 440.3/719.8 kB 248.0 kB/s eta 0:00:02\n",
      "   ----------------------- -------------- 440.3/719.8 kB 248.0 kB/s eta 0:00:02\n",
      "   ----------------------- -------------- 440.3/719.8 kB 248.0 kB/s eta 0:00:02\n",
      "   ----------------------- -------------- 450.6/719.8 kB 227.3 kB/s eta 0:00:02\n",
      "   ------------------------- ------------ 491.5/719.8 kB 240.6 kB/s eta 0:00:01\n",
      "   -------------------------- ----------- 501.8/719.8 kB 240.1 kB/s eta 0:00:01\n",
      "   -------------------------- ----------- 501.8/719.8 kB 240.1 kB/s eta 0:00:01\n",
      "   -------------------------- ----------- 501.8/719.8 kB 240.1 kB/s eta 0:00:01\n",
      "   --------------------------- ---------- 522.2/719.8 kB 234.1 kB/s eta 0:00:01\n",
      "   --------------------------- ---------- 522.2/719.8 kB 234.1 kB/s eta 0:00:01\n",
      "   ---------------------------- --------- 532.5/719.8 kB 229.0 kB/s eta 0:00:01\n",
      "   ---------------------------- --------- 532.5/719.8 kB 229.0 kB/s eta 0:00:01\n",
      "   ---------------------------- --------- 532.5/719.8 kB 229.0 kB/s eta 0:00:01\n",
      "   ---------------------------- --------- 532.5/719.8 kB 229.0 kB/s eta 0:00:01\n",
      "   ---------------------------- --------- 532.5/719.8 kB 229.0 kB/s eta 0:00:01\n",
      "   ---------------------------- --------- 532.5/719.8 kB 229.0 kB/s eta 0:00:01\n",
      "   ----------------------------- -------- 553.0/719.8 kB 213.1 kB/s eta 0:00:01\n",
      "   ----------------------------- -------- 553.0/719.8 kB 213.1 kB/s eta 0:00:01\n",
      "   ----------------------------- -------- 553.0/719.8 kB 213.1 kB/s eta 0:00:01\n",
      "   ----------------------------- -------- 553.0/719.8 kB 213.1 kB/s eta 0:00:01\n",
      "   ----------------------------- -------- 553.0/719.8 kB 213.1 kB/s eta 0:00:01\n",
      "   ----------------------------- -------- 553.0/719.8 kB 213.1 kB/s eta 0:00:01\n",
      "   ----------------------------- -------- 553.0/719.8 kB 213.1 kB/s eta 0:00:01\n",
      "   ----------------------------- -------- 553.0/719.8 kB 213.1 kB/s eta 0:00:01\n",
      "   ----------------------------- -------- 553.0/719.8 kB 213.1 kB/s eta 0:00:01\n",
      "   ----------------------------- -------- 553.0/719.8 kB 213.1 kB/s eta 0:00:01\n",
      "   ----------------------------- -------- 553.0/719.8 kB 213.1 kB/s eta 0:00:01\n",
      "   ----------------------------- -------- 553.0/719.8 kB 213.1 kB/s eta 0:00:01\n",
      "   ----------------------------- -------- 553.0/719.8 kB 213.1 kB/s eta 0:00:01\n",
      "   ----------------------------- -------- 553.0/719.8 kB 213.1 kB/s eta 0:00:01\n",
      "   ----------------------------- -------- 553.0/719.8 kB 213.1 kB/s eta 0:00:01\n",
      "   ------------------------------ ------- 573.4/719.8 kB 174.1 kB/s eta 0:00:01\n",
      "   --------------------------------- ---- 634.9/719.8 kB 187.7 kB/s eta 0:00:01\n",
      "   --------------------------------- ---- 634.9/719.8 kB 187.7 kB/s eta 0:00:01\n",
      "   ---------------------------------- --- 655.4/719.8 kB 189.4 kB/s eta 0:00:01\n",
      "   ---------------------------------- --- 655.4/719.8 kB 189.4 kB/s eta 0:00:01\n",
      "   ---------------------------------- --- 655.4/719.8 kB 189.4 kB/s eta 0:00:01\n",
      "   ---------------------------------- --- 655.4/719.8 kB 189.4 kB/s eta 0:00:01\n",
      "   ---------------------------------- --- 655.4/719.8 kB 189.4 kB/s eta 0:00:01\n",
      "   ----------------------------------- -- 665.6/719.8 kB 177.0 kB/s eta 0:00:01\n",
      "   ----------------------------------- -- 665.6/719.8 kB 177.0 kB/s eta 0:00:01\n",
      "   ----------------------------------- -- 665.6/719.8 kB 177.0 kB/s eta 0:00:01\n",
      "   ------------------------------------ - 686.1/719.8 kB 177.3 kB/s eta 0:00:01\n",
      "   ------------------------------------ - 686.1/719.8 kB 177.3 kB/s eta 0:00:01\n",
      "   ------------------------------------ - 686.1/719.8 kB 177.3 kB/s eta 0:00:01\n",
      "   ------------------------------------ - 686.1/719.8 kB 177.3 kB/s eta 0:00:01\n",
      "   ------------------------------------ - 686.1/719.8 kB 177.3 kB/s eta 0:00:01\n",
      "   ------------------------------------ - 696.3/719.8 kB 169.5 kB/s eta 0:00:01\n",
      "   ------------------------------------ - 696.3/719.8 kB 169.5 kB/s eta 0:00:01\n",
      "   ------------------------------------ - 696.3/719.8 kB 169.5 kB/s eta 0:00:01\n",
      "   ------------------------------------ - 696.3/719.8 kB 169.5 kB/s eta 0:00:01\n",
      "   ------------------------------------ - 696.3/719.8 kB 169.5 kB/s eta 0:00:01\n",
      "   -------------------------------------- 719.8/719.8 kB 165.1 kB/s eta 0:00:00\n",
      "Using cached typeguard-2.13.3-py3-none-any.whl (17 kB)\n",
      "Installing collected packages: typeguard, tensorflow-addons\n",
      "Successfully installed tensorflow-addons-0.22.0 typeguard-2.13.3\n"
     ]
    }
   ],
   "source": [
    "%pip install tensorflow-addons"
   ]
  },
  {
   "cell_type": "code",
   "execution_count": 24,
   "metadata": {},
   "outputs": [
    {
     "name": "stdout",
     "output_type": "stream",
     "text": [
      "Obtaining file:///D:/ML/Lung%20Cancer/onnx-tensorflow\n",
      "  Preparing metadata (setup.py): started\n",
      "  Preparing metadata (setup.py): finished with status 'done'\n",
      "Requirement already satisfied: onnx>=1.10.2 in c:\\users\\iamgo\\anaconda3\\lib\\site-packages (from onnx-tf==1.10.0) (1.16.2)\n",
      "Requirement already satisfied: PyYAML in c:\\users\\iamgo\\anaconda3\\lib\\site-packages (from onnx-tf==1.10.0) (6.0.1)\n",
      "Requirement already satisfied: tensorflow_addons in c:\\users\\iamgo\\anaconda3\\lib\\site-packages (from onnx-tf==1.10.0) (0.22.0)\n",
      "Collecting tensorflow_probability (from onnx-tf==1.10.0)\n",
      "  Downloading tensorflow_probability-0.24.0-py2.py3-none-any.whl.metadata (13 kB)\n",
      "Requirement already satisfied: numpy>=1.20 in c:\\users\\iamgo\\anaconda3\\lib\\site-packages (from onnx>=1.10.2->onnx-tf==1.10.0) (1.26.4)\n",
      "Requirement already satisfied: protobuf>=3.20.2 in c:\\users\\iamgo\\anaconda3\\lib\\site-packages (from onnx>=1.10.2->onnx-tf==1.10.0) (5.27.3)\n",
      "Requirement already satisfied: typeguard<3.0.0,>=2.7 in c:\\users\\iamgo\\anaconda3\\lib\\site-packages (from tensorflow_addons->onnx-tf==1.10.0) (2.13.3)\n",
      "Requirement already satisfied: packaging in c:\\users\\iamgo\\anaconda3\\lib\\site-packages (from tensorflow_addons->onnx-tf==1.10.0) (24.1)\n",
      "Collecting absl-py (from tensorflow_probability->onnx-tf==1.10.0)\n",
      "  Using cached absl_py-2.1.0-py3-none-any.whl.metadata (2.3 kB)\n",
      "Requirement already satisfied: six>=1.10.0 in c:\\users\\iamgo\\anaconda3\\lib\\site-packages (from tensorflow_probability->onnx-tf==1.10.0) (1.16.0)\n",
      "Requirement already satisfied: decorator in c:\\users\\iamgo\\anaconda3\\lib\\site-packages (from tensorflow_probability->onnx-tf==1.10.0) (5.1.1)\n",
      "Requirement already satisfied: cloudpickle>=1.3 in c:\\users\\iamgo\\anaconda3\\lib\\site-packages (from tensorflow_probability->onnx-tf==1.10.0) (3.0.0)\n",
      "Collecting gast>=0.3.2 (from tensorflow_probability->onnx-tf==1.10.0)\n",
      "  Downloading gast-0.6.0-py3-none-any.whl.metadata (1.3 kB)\n",
      "Collecting dm-tree (from tensorflow_probability->onnx-tf==1.10.0)\n",
      "  Downloading dm_tree-0.1.8-cp311-cp311-win_amd64.whl.metadata (2.0 kB)\n",
      "Downloading tensorflow_probability-0.24.0-py2.py3-none-any.whl (6.9 MB)\n",
      "   ---------------------------------------- 0.0/6.9 MB ? eta -:--:--\n",
      "   ---------------------------------------- 0.0/6.9 MB ? eta -:--:--\n",
      "   ---------------------------------------- 0.0/6.9 MB 660.6 kB/s eta 0:00:11\n",
      "    --------------------------------------- 0.1/6.9 MB 980.4 kB/s eta 0:00:07\n",
      "    --------------------------------------- 0.2/6.9 MB 984.6 kB/s eta 0:00:07\n",
      "   - -------------------------------------- 0.2/6.9 MB 1.1 MB/s eta 0:00:07\n",
      "   - -------------------------------------- 0.2/6.9 MB 1.0 MB/s eta 0:00:07\n",
      "   - -------------------------------------- 0.3/6.9 MB 1.1 MB/s eta 0:00:06\n",
      "   -- ------------------------------------- 0.4/6.9 MB 1.2 MB/s eta 0:00:06\n",
      "   -- ------------------------------------- 0.4/6.9 MB 1.1 MB/s eta 0:00:06\n",
      "   -- ------------------------------------- 0.5/6.9 MB 1.2 MB/s eta 0:00:06\n",
      "   --- ------------------------------------ 0.6/6.9 MB 1.2 MB/s eta 0:00:06\n",
      "   --- ------------------------------------ 0.6/6.9 MB 1.2 MB/s eta 0:00:06\n",
      "   --- ------------------------------------ 0.7/6.9 MB 1.2 MB/s eta 0:00:06\n",
      "   ---- ----------------------------------- 0.8/6.9 MB 1.2 MB/s eta 0:00:06\n",
      "   ---- ----------------------------------- 0.8/6.9 MB 1.2 MB/s eta 0:00:06\n",
      "   ---- ----------------------------------- 0.8/6.9 MB 1.1 MB/s eta 0:00:06\n",
      "   ----- ---------------------------------- 0.9/6.9 MB 1.2 MB/s eta 0:00:06\n",
      "   ----- ---------------------------------- 1.0/6.9 MB 1.2 MB/s eta 0:00:06\n",
      "   ----- ---------------------------------- 1.0/6.9 MB 1.2 MB/s eta 0:00:06\n",
      "   ------ --------------------------------- 1.1/6.9 MB 1.2 MB/s eta 0:00:06\n",
      "   ------ --------------------------------- 1.1/6.9 MB 1.2 MB/s eta 0:00:05\n",
      "   ------ --------------------------------- 1.2/6.9 MB 1.2 MB/s eta 0:00:05\n",
      "   ------- -------------------------------- 1.3/6.9 MB 1.2 MB/s eta 0:00:05\n",
      "   ------- -------------------------------- 1.3/6.9 MB 1.2 MB/s eta 0:00:05\n",
      "   -------- ------------------------------- 1.4/6.9 MB 1.2 MB/s eta 0:00:05\n",
      "   -------- ------------------------------- 1.4/6.9 MB 1.2 MB/s eta 0:00:05\n",
      "   -------- ------------------------------- 1.4/6.9 MB 1.2 MB/s eta 0:00:05\n",
      "   -------- ------------------------------- 1.5/6.9 MB 1.1 MB/s eta 0:00:05\n",
      "   -------- ------------------------------- 1.5/6.9 MB 1.1 MB/s eta 0:00:06\n",
      "   -------- ------------------------------- 1.5/6.9 MB 1.1 MB/s eta 0:00:06\n",
      "   -------- ------------------------------- 1.5/6.9 MB 1.0 MB/s eta 0:00:06\n",
      "   -------- ------------------------------- 1.5/6.9 MB 976.5 kB/s eta 0:00:06\n",
      "   --------- ------------------------------ 1.6/6.9 MB 973.7 kB/s eta 0:00:06\n",
      "   --------- ------------------------------ 1.6/6.9 MB 973.8 kB/s eta 0:00:06\n",
      "   --------- ------------------------------ 1.6/6.9 MB 973.8 kB/s eta 0:00:06\n",
      "   --------- ------------------------------ 1.7/6.9 MB 940.2 kB/s eta 0:00:06\n",
      "   ---------- ----------------------------- 1.8/6.9 MB 969.1 kB/s eta 0:00:06\n",
      "   ---------- ----------------------------- 1.9/6.9 MB 983.0 kB/s eta 0:00:06\n",
      "   ---------- ----------------------------- 1.9/6.9 MB 983.2 kB/s eta 0:00:06\n",
      "   ----------- ---------------------------- 1.9/6.9 MB 991.0 kB/s eta 0:00:06\n",
      "   ----------- ---------------------------- 2.0/6.9 MB 985.8 kB/s eta 0:00:06\n",
      "   ----------- ---------------------------- 2.0/6.9 MB 970.5 kB/s eta 0:00:06\n",
      "   ----------- ---------------------------- 2.0/6.9 MB 965.9 kB/s eta 0:00:06\n",
      "   ----------- ---------------------------- 2.0/6.9 MB 945.2 kB/s eta 0:00:06\n",
      "   ----------- ---------------------------- 2.1/6.9 MB 952.3 kB/s eta 0:00:06\n",
      "   ------------ --------------------------- 2.1/6.9 MB 935.1 kB/s eta 0:00:06\n",
      "   ------------ --------------------------- 2.1/6.9 MB 935.1 kB/s eta 0:00:06\n",
      "   ------------ --------------------------- 2.1/6.9 MB 901.7 kB/s eta 0:00:06\n",
      "   ------------ --------------------------- 2.2/6.9 MB 901.1 kB/s eta 0:00:06\n",
      "   ------------ --------------------------- 2.2/6.9 MB 913.2 kB/s eta 0:00:06\n",
      "   ------------- -------------------------- 2.3/6.9 MB 929.0 kB/s eta 0:00:05\n",
      "   ------------- -------------------------- 2.4/6.9 MB 930.5 kB/s eta 0:00:05\n",
      "   -------------- ------------------------- 2.5/6.9 MB 963.2 kB/s eta 0:00:05\n",
      "   -------------- ------------------------- 2.5/6.9 MB 967.4 kB/s eta 0:00:05\n",
      "   --------------- ------------------------ 2.6/6.9 MB 973.4 kB/s eta 0:00:05\n",
      "   --------------- ------------------------ 2.7/6.9 MB 992.6 kB/s eta 0:00:05\n",
      "   ---------------- ----------------------- 2.8/6.9 MB 1.0 MB/s eta 0:00:05\n",
      "   ---------------- ----------------------- 2.8/6.9 MB 1.0 MB/s eta 0:00:05\n",
      "   ---------------- ----------------------- 2.9/6.9 MB 1.0 MB/s eta 0:00:05\n",
      "   ---------------- ----------------------- 2.9/6.9 MB 1.0 MB/s eta 0:00:04\n",
      "   ----------------- ---------------------- 3.0/6.9 MB 1.0 MB/s eta 0:00:04\n",
      "   ----------------- ---------------------- 3.1/6.9 MB 1.0 MB/s eta 0:00:04\n",
      "   ------------------ --------------------- 3.1/6.9 MB 1.0 MB/s eta 0:00:04\n",
      "   ------------------ --------------------- 3.2/6.9 MB 1.0 MB/s eta 0:00:04\n",
      "   ------------------ --------------------- 3.3/6.9 MB 1.0 MB/s eta 0:00:04\n",
      "   ------------------- -------------------- 3.3/6.9 MB 1.0 MB/s eta 0:00:04\n",
      "   ------------------- -------------------- 3.4/6.9 MB 1.1 MB/s eta 0:00:04\n",
      "   ------------------- -------------------- 3.4/6.9 MB 1.0 MB/s eta 0:00:04\n",
      "   -------------------- ------------------- 3.5/6.9 MB 1.0 MB/s eta 0:00:04\n",
      "   -------------------- ------------------- 3.6/6.9 MB 1.1 MB/s eta 0:00:04\n",
      "   --------------------- ------------------ 3.6/6.9 MB 1.1 MB/s eta 0:00:04\n",
      "   --------------------- ------------------ 3.7/6.9 MB 1.1 MB/s eta 0:00:04\n",
      "   --------------------- ------------------ 3.8/6.9 MB 1.1 MB/s eta 0:00:03\n",
      "   ---------------------- ----------------- 3.8/6.9 MB 1.1 MB/s eta 0:00:03\n",
      "   ---------------------- ----------------- 3.9/6.9 MB 1.1 MB/s eta 0:00:03\n",
      "   ---------------------- ----------------- 4.0/6.9 MB 1.1 MB/s eta 0:00:03\n",
      "   ----------------------- ---------------- 4.0/6.9 MB 1.1 MB/s eta 0:00:03\n",
      "   ----------------------- ---------------- 4.0/6.9 MB 1.1 MB/s eta 0:00:03\n",
      "   ----------------------- ---------------- 4.0/6.9 MB 1.1 MB/s eta 0:00:03\n",
      "   ----------------------- ---------------- 4.0/6.9 MB 1.1 MB/s eta 0:00:03\n",
      "   ----------------------- ---------------- 4.1/6.9 MB 1.0 MB/s eta 0:00:03\n",
      "   ----------------------- ---------------- 4.1/6.9 MB 1.0 MB/s eta 0:00:03\n",
      "   ----------------------- ---------------- 4.1/6.9 MB 1.0 MB/s eta 0:00:03\n",
      "   ----------------------- ---------------- 4.1/6.9 MB 1.0 MB/s eta 0:00:03\n",
      "   ----------------------- ---------------- 4.2/6.9 MB 1.0 MB/s eta 0:00:03\n",
      "   ------------------------ --------------- 4.2/6.9 MB 1.0 MB/s eta 0:00:03\n",
      "   ------------------------ --------------- 4.3/6.9 MB 1.0 MB/s eta 0:00:03\n",
      "   ------------------------- -------------- 4.4/6.9 MB 1.0 MB/s eta 0:00:03\n",
      "   ------------------------- -------------- 4.4/6.9 MB 1.0 MB/s eta 0:00:03\n",
      "   ------------------------- -------------- 4.5/6.9 MB 1.0 MB/s eta 0:00:03\n",
      "   -------------------------- ------------- 4.6/6.9 MB 1.1 MB/s eta 0:00:03\n",
      "   -------------------------- ------------- 4.6/6.9 MB 1.0 MB/s eta 0:00:03\n",
      "   -------------------------- ------------- 4.6/6.9 MB 1.0 MB/s eta 0:00:03\n",
      "   -------------------------- ------------- 4.7/6.9 MB 1.0 MB/s eta 0:00:03\n",
      "   --------------------------- ------------ 4.7/6.9 MB 1.0 MB/s eta 0:00:03\n",
      "   --------------------------- ------------ 4.8/6.9 MB 1.0 MB/s eta 0:00:03\n",
      "   ---------------------------- ----------- 4.9/6.9 MB 1.1 MB/s eta 0:00:02\n",
      "   ---------------------------- ----------- 4.9/6.9 MB 1.1 MB/s eta 0:00:02\n",
      "   ---------------------------- ----------- 4.9/6.9 MB 1.1 MB/s eta 0:00:02\n",
      "   ----------------------------- ---------- 5.1/6.9 MB 1.1 MB/s eta 0:00:02\n",
      "   ----------------------------- ---------- 5.2/6.9 MB 1.1 MB/s eta 0:00:02\n",
      "   ------------------------------ --------- 5.2/6.9 MB 1.1 MB/s eta 0:00:02\n",
      "   ------------------------------ --------- 5.3/6.9 MB 1.1 MB/s eta 0:00:02\n",
      "   ------------------------------ --------- 5.4/6.9 MB 1.1 MB/s eta 0:00:02\n",
      "   ------------------------------- -------- 5.5/6.9 MB 1.1 MB/s eta 0:00:02\n",
      "   ------------------------------- -------- 5.6/6.9 MB 1.1 MB/s eta 0:00:02\n",
      "   -------------------------------- ------- 5.6/6.9 MB 1.1 MB/s eta 0:00:02\n",
      "   -------------------------------- ------- 5.7/6.9 MB 1.1 MB/s eta 0:00:02\n",
      "   --------------------------------- ------ 5.7/6.9 MB 1.1 MB/s eta 0:00:02\n",
      "   --------------------------------- ------ 5.8/6.9 MB 1.1 MB/s eta 0:00:02\n",
      "   --------------------------------- ------ 5.9/6.9 MB 1.1 MB/s eta 0:00:01\n",
      "   ---------------------------------- ----- 5.9/6.9 MB 1.1 MB/s eta 0:00:01\n",
      "   ---------------------------------- ----- 6.0/6.9 MB 1.1 MB/s eta 0:00:01\n",
      "   ----------------------------------- ---- 6.1/6.9 MB 1.1 MB/s eta 0:00:01\n",
      "   ----------------------------------- ---- 6.1/6.9 MB 1.1 MB/s eta 0:00:01\n",
      "   ----------------------------------- ---- 6.2/6.9 MB 1.1 MB/s eta 0:00:01\n",
      "   ----------------------------------- ---- 6.2/6.9 MB 1.1 MB/s eta 0:00:01\n",
      "   ------------------------------------ --- 6.3/6.9 MB 1.1 MB/s eta 0:00:01\n",
      "   ------------------------------------ --- 6.3/6.9 MB 1.1 MB/s eta 0:00:01\n",
      "   ------------------------------------ --- 6.3/6.9 MB 1.1 MB/s eta 0:00:01\n",
      "   ------------------------------------ --- 6.4/6.9 MB 1.1 MB/s eta 0:00:01\n",
      "   ------------------------------------ --- 6.4/6.9 MB 1.1 MB/s eta 0:00:01\n",
      "   ------------------------------------- -- 6.4/6.9 MB 1.1 MB/s eta 0:00:01\n",
      "   ------------------------------------- -- 6.4/6.9 MB 1.1 MB/s eta 0:00:01\n",
      "   ------------------------------------- -- 6.4/6.9 MB 1.1 MB/s eta 0:00:01\n",
      "   ------------------------------------- -- 6.4/6.9 MB 1.1 MB/s eta 0:00:01\n",
      "   ------------------------------------- -- 6.5/6.9 MB 1.1 MB/s eta 0:00:01\n",
      "   ------------------------------------- -- 6.5/6.9 MB 1.1 MB/s eta 0:00:01\n",
      "   ------------------------------------- -- 6.5/6.9 MB 1.1 MB/s eta 0:00:01\n",
      "   ------------------------------------- -- 6.5/6.9 MB 1.1 MB/s eta 0:00:01\n",
      "   ------------------------------------- -- 6.5/6.9 MB 1.0 MB/s eta 0:00:01\n",
      "   ------------------------------------- -- 6.5/6.9 MB 1.0 MB/s eta 0:00:01\n",
      "   ------------------------------------- -- 6.6/6.9 MB 1.0 MB/s eta 0:00:01\n",
      "   ------------------------------------- -- 6.6/6.9 MB 1.0 MB/s eta 0:00:01\n",
      "   -------------------------------------- - 6.6/6.9 MB 1.0 MB/s eta 0:00:01\n",
      "   -------------------------------------- - 6.6/6.9 MB 1.0 MB/s eta 0:00:01\n",
      "   -------------------------------------- - 6.7/6.9 MB 1.0 MB/s eta 0:00:01\n",
      "   -------------------------------------- - 6.7/6.9 MB 1.0 MB/s eta 0:00:01\n",
      "   -------------------------------------- - 6.7/6.9 MB 1.0 MB/s eta 0:00:01\n",
      "   -------------------------------------- - 6.7/6.9 MB 1.0 MB/s eta 0:00:01\n",
      "   -------------------------------------- - 6.7/6.9 MB 1.0 MB/s eta 0:00:01\n",
      "   -------------------------------------- - 6.7/6.9 MB 1.0 MB/s eta 0:00:01\n",
      "   -------------------------------------- - 6.8/6.9 MB 992.8 kB/s eta 0:00:01\n",
      "   -------------------------------------- - 6.8/6.9 MB 992.8 kB/s eta 0:00:01\n",
      "   ---------------------------------------  6.8/6.9 MB 989.0 kB/s eta 0:00:01\n",
      "   ---------------------------------------  6.8/6.9 MB 989.0 kB/s eta 0:00:01\n",
      "   ---------------------------------------  6.9/6.9 MB 987.4 kB/s eta 0:00:01\n",
      "   ---------------------------------------  6.9/6.9 MB 991.2 kB/s eta 0:00:01\n",
      "   ---------------------------------------  6.9/6.9 MB 991.2 kB/s eta 0:00:01\n",
      "   ---------------------------------------  6.9/6.9 MB 991.2 kB/s eta 0:00:01\n",
      "   ---------------------------------------  6.9/6.9 MB 991.2 kB/s eta 0:00:01\n",
      "   ---------------------------------------  6.9/6.9 MB 991.2 kB/s eta 0:00:01\n",
      "   ---------------------------------------  6.9/6.9 MB 991.2 kB/s eta 0:00:01\n",
      "   ---------------------------------------- 6.9/6.9 MB 951.5 kB/s eta 0:00:00\n",
      "Downloading gast-0.6.0-py3-none-any.whl (21 kB)\n",
      "Using cached absl_py-2.1.0-py3-none-any.whl (133 kB)\n",
      "Downloading dm_tree-0.1.8-cp311-cp311-win_amd64.whl (101 kB)\n",
      "   ---------------------------------------- 0.0/101.3 kB ? eta -:--:--\n",
      "   ---------------------------------------- 0.0/101.3 kB ? eta -:--:--\n",
      "   ---------------- ----------------------- 41.0/101.3 kB 1.9 MB/s eta 0:00:01\n",
      "   ------------------------------------ --- 92.2/101.3 kB 1.3 MB/s eta 0:00:01\n",
      "   -------------------------------------- 101.3/101.3 kB 969.1 kB/s eta 0:00:00\n",
      "Installing collected packages: dm-tree, gast, absl-py, tensorflow_probability, onnx-tf\n",
      "  Running setup.py develop for onnx-tf\n",
      "Successfully installed absl-py-2.1.0 dm-tree-0.1.8 gast-0.6.0 onnx-tf-1.10.0 tensorflow_probability-0.24.0\n"
     ]
    },
    {
     "name": "stderr",
     "output_type": "stream",
     "text": [
      "Cloning into 'onnx-tensorflow'...\n"
     ]
    }
   ],
   "source": [
    "!git clone https://github.com/onnx/onnx-tensorflow.git && cd onnx-tensorflow && pip install -e ."
   ]
  },
  {
   "cell_type": "code",
   "execution_count": 18,
   "metadata": {},
   "outputs": [
    {
     "name": "stdout",
     "output_type": "stream",
     "text": [
      "Requirement already satisfied: torch in c:\\users\\iamgo\\anaconda3\\lib\\site-packages (2.4.0)\n",
      "Requirement already satisfied: filelock in c:\\users\\iamgo\\anaconda3\\lib\\site-packages (from torch) (3.13.1)\n",
      "Requirement already satisfied: typing-extensions>=4.8.0 in c:\\users\\iamgo\\anaconda3\\lib\\site-packages (from torch) (4.11.0)\n",
      "Requirement already satisfied: sympy in c:\\users\\iamgo\\anaconda3\\lib\\site-packages (from torch) (1.12)\n",
      "Requirement already satisfied: networkx in c:\\users\\iamgo\\anaconda3\\lib\\site-packages (from torch) (3.3)\n",
      "Requirement already satisfied: jinja2 in c:\\users\\iamgo\\anaconda3\\lib\\site-packages (from torch) (3.1.4)\n",
      "Requirement already satisfied: fsspec in c:\\users\\iamgo\\anaconda3\\lib\\site-packages (from torch) (2024.3.1)\n",
      "Requirement already satisfied: MarkupSafe>=2.0 in c:\\users\\iamgo\\anaconda3\\lib\\site-packages (from jinja2->torch) (2.1.3)\n",
      "Requirement already satisfied: mpmath>=0.19 in c:\\users\\iamgo\\anaconda3\\lib\\site-packages (from sympy->torch) (1.3.0)\n",
      "Note: you may need to restart the kernel to use updated packages.\n"
     ]
    }
   ],
   "source": [
    "%pip install torch"
   ]
  },
  {
   "cell_type": "code",
   "execution_count": 19,
   "metadata": {},
   "outputs": [
    {
     "name": "stdout",
     "output_type": "stream",
     "text": [
      "Requirement already satisfied: torchvision in c:\\users\\iamgo\\anaconda3\\lib\\site-packages (0.19.0)\n",
      "Requirement already satisfied: numpy in c:\\users\\iamgo\\anaconda3\\lib\\site-packages (from torchvision) (1.26.4)\n",
      "Requirement already satisfied: torch==2.4.0 in c:\\users\\iamgo\\anaconda3\\lib\\site-packages (from torchvision) (2.4.0)\n",
      "Requirement already satisfied: pillow!=8.3.*,>=5.3.0 in c:\\users\\iamgo\\anaconda3\\lib\\site-packages (from torchvision) (10.4.0)\n",
      "Requirement already satisfied: filelock in c:\\users\\iamgo\\anaconda3\\lib\\site-packages (from torch==2.4.0->torchvision) (3.13.1)\n",
      "Requirement already satisfied: typing-extensions>=4.8.0 in c:\\users\\iamgo\\anaconda3\\lib\\site-packages (from torch==2.4.0->torchvision) (4.11.0)\n",
      "Requirement already satisfied: sympy in c:\\users\\iamgo\\anaconda3\\lib\\site-packages (from torch==2.4.0->torchvision) (1.12)\n",
      "Requirement already satisfied: networkx in c:\\users\\iamgo\\anaconda3\\lib\\site-packages (from torch==2.4.0->torchvision) (3.3)\n",
      "Requirement already satisfied: jinja2 in c:\\users\\iamgo\\anaconda3\\lib\\site-packages (from torch==2.4.0->torchvision) (3.1.4)\n",
      "Requirement already satisfied: fsspec in c:\\users\\iamgo\\anaconda3\\lib\\site-packages (from torch==2.4.0->torchvision) (2024.3.1)\n",
      "Requirement already satisfied: MarkupSafe>=2.0 in c:\\users\\iamgo\\anaconda3\\lib\\site-packages (from jinja2->torch==2.4.0->torchvision) (2.1.3)\n",
      "Requirement already satisfied: mpmath>=0.19 in c:\\users\\iamgo\\anaconda3\\lib\\site-packages (from sympy->torch==2.4.0->torchvision) (1.3.0)\n",
      "Note: you may need to restart the kernel to use updated packages.\n"
     ]
    }
   ],
   "source": [
    "%pip install torchvision"
   ]
  },
  {
   "cell_type": "code",
   "execution_count": 20,
   "metadata": {},
   "outputs": [
    {
     "name": "stdout",
     "output_type": "stream",
     "text": [
      "Requirement already satisfied: numpy in c:\\users\\iamgo\\anaconda3\\lib\\site-packages (1.26.4)\n",
      "Note: you may need to restart the kernel to use updated packages.\n"
     ]
    }
   ],
   "source": [
    "%pip install numpy"
   ]
  },
  {
   "cell_type": "code",
   "execution_count": 25,
   "metadata": {},
   "outputs": [
    {
     "name": "stdout",
     "output_type": "stream",
     "text": [
      "Requirement already satisfied: onnx_tf in d:\\ml\\lung cancer\\onnx-tensorflow (1.10.0)\n",
      "Requirement already satisfied: onnx>=1.10.2 in c:\\users\\iamgo\\anaconda3\\lib\\site-packages (from onnx_tf) (1.16.2)\n",
      "Requirement already satisfied: PyYAML in c:\\users\\iamgo\\anaconda3\\lib\\site-packages (from onnx_tf) (6.0.1)\n",
      "Requirement already satisfied: tensorflow_addons in c:\\users\\iamgo\\anaconda3\\lib\\site-packages (from onnx_tf) (0.22.0)\n",
      "Requirement already satisfied: tensorflow_probability in c:\\users\\iamgo\\anaconda3\\lib\\site-packages (from onnx_tf) (0.24.0)\n",
      "Requirement already satisfied: numpy>=1.20 in c:\\users\\iamgo\\anaconda3\\lib\\site-packages (from onnx>=1.10.2->onnx_tf) (1.26.4)\n",
      "Requirement already satisfied: protobuf>=3.20.2 in c:\\users\\iamgo\\anaconda3\\lib\\site-packages (from onnx>=1.10.2->onnx_tf) (5.27.3)\n",
      "Requirement already satisfied: typeguard<3.0.0,>=2.7 in c:\\users\\iamgo\\anaconda3\\lib\\site-packages (from tensorflow_addons->onnx_tf) (2.13.3)\n",
      "Requirement already satisfied: packaging in c:\\users\\iamgo\\anaconda3\\lib\\site-packages (from tensorflow_addons->onnx_tf) (24.1)\n",
      "Requirement already satisfied: absl-py in c:\\users\\iamgo\\anaconda3\\lib\\site-packages (from tensorflow_probability->onnx_tf) (2.1.0)\n",
      "Requirement already satisfied: six>=1.10.0 in c:\\users\\iamgo\\anaconda3\\lib\\site-packages (from tensorflow_probability->onnx_tf) (1.16.0)\n",
      "Requirement already satisfied: decorator in c:\\users\\iamgo\\anaconda3\\lib\\site-packages (from tensorflow_probability->onnx_tf) (5.1.1)\n",
      "Requirement already satisfied: cloudpickle>=1.3 in c:\\users\\iamgo\\anaconda3\\lib\\site-packages (from tensorflow_probability->onnx_tf) (3.0.0)\n",
      "Requirement already satisfied: gast>=0.3.2 in c:\\users\\iamgo\\anaconda3\\lib\\site-packages (from tensorflow_probability->onnx_tf) (0.6.0)\n",
      "Requirement already satisfied: dm-tree in c:\\users\\iamgo\\anaconda3\\lib\\site-packages (from tensorflow_probability->onnx_tf) (0.1.8)\n",
      "Note: you may need to restart the kernel to use updated packages.\n"
     ]
    }
   ],
   "source": [
    "%pip install onnx_tf"
   ]
  }
 ],
 "metadata": {
  "kernelspec": {
   "display_name": "base",
   "language": "python",
   "name": "python3"
  },
  "language_info": {
   "codemirror_mode": {
    "name": "ipython",
    "version": 3
   },
   "file_extension": ".py",
   "mimetype": "text/x-python",
   "name": "python",
   "nbconvert_exporter": "python",
   "pygments_lexer": "ipython3",
   "version": "3.8.19"
  }
 },
 "nbformat": 4,
 "nbformat_minor": 2
}
