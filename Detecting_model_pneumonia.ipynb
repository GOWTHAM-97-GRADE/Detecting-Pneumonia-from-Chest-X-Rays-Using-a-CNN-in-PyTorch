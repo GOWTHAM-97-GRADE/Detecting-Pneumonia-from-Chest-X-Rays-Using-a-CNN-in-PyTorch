{
 "cells": [
  {
   "cell_type": "code",
   "execution_count": 1,
   "metadata": {},
   "outputs": [],
   "source": [
    "import torch\n",
    "import torchvision\n",
    "import torch.nn as nn\n",
    "import torchvision.transforms as transforms\n",
    "from torch.utils.data import Dataset, DataLoader, random_split\n",
    "import os\n",
    "import pandas as pd\n",
    "from PIL import Image\n",
    "import numpy as np\n",
    "import matplotlib.pyplot as plt"
   ]
  },
  {
   "cell_type": "code",
   "execution_count": 2,
   "metadata": {},
   "outputs": [],
   "source": [
    "labels = ['PNEUMONIA', 'NORMAL']\n",
    "dataset = []\n",
    "test_DS = []\n",
    "val_DS = []\n",
    "\n",
    "# Populate the dataset list for training\n",
    "\n",
    "for label in labels:\n",
    "    path = os.path.join(\"./Dataset/chest_xray/train\", label)\n",
    "    class_num = labels.index(label)\n",
    "    for img_name in os.listdir(path):\n",
    "        dataset.append({\"img_name\": os.path.join(label, img_name), \"label\": class_num})\n",
    "\n",
    "# Populate the dataset list for testing\n",
    "\n",
    "for label in labels:\n",
    "    path = os.path.join(\"./Dataset/chest_xray/test\", label)\n",
    "    class_num = labels.index(label)\n",
    "    for img_name in os.listdir(path):\n",
    "        test_DS.append({\"img_name\": os.path.join(label, img_name), \"label\": class_num})\n",
    "\n",
    "# Populate the dataset list for validation\n",
    "\n",
    "for label in labels:\n",
    "    path = os.path.join(\"./Dataset/chest_xray/val\", label)\n",
    "    class_num = labels.index(label)\n",
    "    for img_name in os.listdir(path):\n",
    "        val_DS.append({\"img_name\": os.path.join(label, img_name), \"label\": class_num})\n"
   ]
  },
  {
   "cell_type": "code",
   "execution_count": 3,
   "metadata": {},
   "outputs": [],
   "source": [
    "train_df = pd.DataFrame(dataset)\n",
    "test_df = pd.DataFrame(test_DS)\n",
    "val_df = pd.DataFrame(val_DS)\n"
   ]
  },
  {
   "cell_type": "code",
   "execution_count": 4,
   "metadata": {},
   "outputs": [],
   "source": [
    "img_size = 150\n",
    "transform = transforms.Compose([\n",
    "    transforms.Grayscale(),\n",
    "    transforms.Resize((img_size, img_size)),\n",
    "    transforms.ToTensor()\n",
    "])"
   ]
  },
  {
   "cell_type": "code",
   "execution_count": 5,
   "metadata": {},
   "outputs": [],
   "source": [
    "class CustomDataset(Dataset):\n",
    "    def __init__(self, root_dir, annotation_file, transform=None):\n",
    "        self.dataframe = annotation_file\n",
    "        self.root_dir = root_dir\n",
    "        self.transform = transform\n",
    "\n",
    "    def __len__(self):\n",
    "        return len(self.dataframe)\n",
    "\n",
    "    def __getitem__(self, index):\n",
    "        img_name = os.path.join(self.root_dir, self.dataframe.iloc[index, 0])\n",
    "        image = Image.open(img_name).convert(\"RGB\")\n",
    "        label = int(self.dataframe.iloc[index, 1])\n",
    "\n",
    "        if self.transform:\n",
    "            image = self.transform(image)\n",
    "\n",
    "        return image, label"
   ]
  },
  {
   "cell_type": "code",
   "execution_count": 6,
   "metadata": {},
   "outputs": [],
   "source": [
    "train_dataset = CustomDataset(root_dir=\"./Dataset/chest_xray/train\", annotation_file=train_df, transform=transform)\n",
    "train_loader = DataLoader(train_dataset, batch_size=32, shuffle=True)\n",
    "\n",
    "test_dataset = CustomDataset(root_dir=\"./Dataset/chest_xray/test\", annotation_file=test_df, transform=transform)\n",
    "test_loader = DataLoader(test_dataset, batch_size=32, shuffle=False)\n",
    "\n",
    "val_dataset = CustomDataset(root_dir=\"./Dataset/chest_xray/val\", annotation_file=val_df, transform=transform)\n",
    "val_loader = DataLoader(val_dataset, batch_size=32, shuffle=False)"
   ]
  },
  {
   "cell_type": "code",
   "execution_count": 7,
   "metadata": {},
   "outputs": [],
   "source": [
    "class ConvNeuralNetwork(nn.Module):\n",
    "    def __init__(self, num_classes):\n",
    "        super(ConvNeuralNetwork, self).__init__()\n",
    "        self.conv1 = nn.Conv2d(in_channels=1, out_channels=32, kernel_size=3, padding=1)\n",
    "        self.conv2 = nn.Conv2d(in_channels=32, out_channels=32, kernel_size=5, padding=2)\n",
    "        self.maxpool1 = nn.MaxPool2d(kernel_size=2, stride=2)\n",
    "\n",
    "        self.conv3 = nn.Conv2d(in_channels=32, out_channels=64, kernel_size=7, padding=3)\n",
    "        self.conv4 = nn.Conv2d(in_channels=64, out_channels=64, kernel_size=11, padding=4)\n",
    "        self.maxpool2 = nn.MaxPool2d(kernel_size=2, stride=2)\n",
    "\n",
    "        self._initialize_fc_input_size(img_size)\n",
    "        self.fc1 = nn.Linear(self.fc_input_size, 128)\n",
    "        self.relu1 = nn.ReLU()\n",
    "        self.fc2 = nn.Linear(128, num_classes)\n",
    "\n",
    "    def _initialize_fc_input_size(self, img_size):\n",
    "        # Dummy forward pass to calculate input size for fully connected layer\n",
    "        x = torch.randn(1, 1, img_size, img_size)\n",
    "        x = self.conv1(x)\n",
    "        x = self.conv2(x)\n",
    "        x = self.maxpool1(x)\n",
    "        x = self.conv3(x)\n",
    "        x = self.conv4(x)\n",
    "        x = self.maxpool2(x)\n",
    "        self.fc_input_size = x.view(x.size(0), -1).size(1)\n",
    "\n",
    "    def forward(self, x):\n",
    "        out = self.conv1(x)\n",
    "        out = self.conv2(out)\n",
    "        out = self.maxpool1(out)\n",
    "        out = self.conv3(out)\n",
    "        out = self.conv4(out)\n",
    "        out = self.maxpool2(out)\n",
    "        out = out.view(out.size(0), -1)\n",
    "        out = self.fc1(out)\n",
    "        out = self.relu1(out)\n",
    "        out = self.fc2(out)\n",
    "        return out"
   ]
  },
  {
   "cell_type": "code",
   "execution_count": 8,
   "metadata": {},
   "outputs": [
    {
     "name": "stderr",
     "output_type": "stream",
     "text": [
      "C:\\Users\\iamgo\\AppData\\Local\\Temp\\ipykernel_5956\\1495722192.py:6: FutureWarning: You are using `torch.load` with `weights_only=False` (the current default value), which uses the default pickle module implicitly. It is possible to construct malicious pickle data which will execute arbitrary code during unpickling (See https://github.com/pytorch/pytorch/blob/main/SECURITY.md#untrusted-models for more details). In a future release, the default value for `weights_only` will be flipped to `True`. This limits the functions that could be executed during unpickling. Arbitrary objects will no longer be allowed to be loaded via this mode unless they are explicitly allowlisted by the user via `torch.serialization.add_safe_globals`. We recommend you start setting `weights_only=True` for any use case where you don't have full control of the loaded file. Please open an issue on GitHub for any issues related to this experimental feature.\n",
      "  model.load_state_dict(torch.load(\"lungs.pth\"))\n"
     ]
    }
   ],
   "source": [
    "batch_size = 32\n",
    "num_classes = 2\n",
    "learning_rate = 0.001\n",
    "num_epochs = 1\n",
    "model = ConvNeuralNetwork(num_classes)\n",
    "model.load_state_dict(torch.load(\"lungs.pth\"))\n",
    "criterion = nn.CrossEntropyLoss()\n",
    "optimizer = torch.optim.SGD(model.parameters(), lr=learning_rate, weight_decay=0.005, momentum=0.9)\n"
   ]
  },
  {
   "cell_type": "code",
   "execution_count": 9,
   "metadata": {},
   "outputs": [
    {
     "name": "stdout",
     "output_type": "stream",
     "text": [
      "1-loss:0.0612\n",
      "2-loss:0.1454\n",
      "3-loss:0.0079\n",
      "4-loss:0.0100\n",
      "5-loss:0.2200\n",
      "6-loss:0.2243\n",
      "7-loss:0.1248\n",
      "8-loss:0.0720\n",
      "9-loss:0.0732\n",
      "10-loss:0.0217\n",
      "11-loss:0.0988\n",
      "12-loss:0.0399\n",
      "13-loss:0.0607\n",
      "14-loss:0.0818\n",
      "15-loss:0.0430\n",
      "16-loss:0.0344\n",
      "17-loss:0.0995\n",
      "18-loss:0.0181\n",
      "19-loss:0.0179\n",
      "20-loss:0.0235\n",
      "21-loss:0.1356\n",
      "22-loss:0.0448\n",
      "23-loss:0.1226\n",
      "24-loss:0.1679\n",
      "25-loss:0.0227\n",
      "26-loss:0.0444\n",
      "27-loss:0.0430\n",
      "28-loss:0.1109\n",
      "29-loss:0.1161\n",
      "30-loss:0.1402\n",
      "31-loss:0.1220\n",
      "32-loss:0.0395\n",
      "33-loss:0.0747\n",
      "34-loss:0.0619\n",
      "35-loss:0.0935\n",
      "36-loss:0.0662\n",
      "37-loss:0.0731\n",
      "38-loss:0.0984\n",
      "39-loss:0.1942\n",
      "40-loss:0.1909\n",
      "41-loss:0.0611\n",
      "42-loss:0.0688\n",
      "43-loss:0.1673\n",
      "44-loss:0.0446\n",
      "45-loss:0.0554\n",
      "46-loss:0.0977\n",
      "47-loss:0.2596\n",
      "48-loss:0.1479\n",
      "49-loss:0.0109\n",
      "50-loss:0.0648\n",
      "51-loss:0.0585\n",
      "52-loss:0.0713\n",
      "53-loss:0.0594\n",
      "54-loss:0.0850\n",
      "55-loss:0.0488\n",
      "56-loss:0.3449\n",
      "57-loss:0.0980\n",
      "58-loss:0.1563\n",
      "59-loss:0.1846\n",
      "60-loss:0.0208\n",
      "61-loss:0.0346\n",
      "62-loss:0.0611\n",
      "63-loss:0.0099\n",
      "64-loss:0.0693\n",
      "65-loss:0.1378\n",
      "66-loss:0.0802\n",
      "67-loss:0.0208\n",
      "68-loss:0.0604\n",
      "69-loss:0.0262\n",
      "70-loss:0.0366\n",
      "71-loss:0.1822\n",
      "72-loss:0.0154\n",
      "73-loss:0.1820\n",
      "74-loss:0.1359\n",
      "75-loss:0.0094\n",
      "76-loss:0.0687\n",
      "77-loss:0.0557\n",
      "78-loss:0.2193\n",
      "79-loss:0.0400\n",
      "80-loss:0.0586\n",
      "81-loss:0.0283\n",
      "82-loss:0.1872\n",
      "83-loss:0.0934\n",
      "84-loss:0.1523\n",
      "85-loss:0.2049\n",
      "86-loss:0.2148\n",
      "87-loss:0.1276\n",
      "88-loss:0.1213\n",
      "89-loss:0.0533\n",
      "90-loss:0.0571\n",
      "91-loss:0.0514\n",
      "92-loss:0.2092\n",
      "93-loss:0.0123\n",
      "94-loss:0.0542\n",
      "95-loss:0.0724\n",
      "96-loss:0.0263\n",
      "97-loss:0.0913\n",
      "98-loss:0.0214\n",
      "99-loss:0.1420\n",
      "100-loss:0.0517\n",
      "101-loss:0.1700\n",
      "102-loss:0.1156\n",
      "103-loss:0.0786\n",
      "104-loss:0.2546\n",
      "105-loss:0.0225\n",
      "106-loss:0.0653\n",
      "107-loss:0.0533\n",
      "108-loss:0.1981\n",
      "109-loss:0.0927\n",
      "110-loss:0.0406\n",
      "111-loss:0.0369\n",
      "112-loss:0.1262\n",
      "113-loss:0.0884\n",
      "114-loss:0.1650\n",
      "115-loss:0.1173\n",
      "116-loss:0.0444\n",
      "117-loss:0.0243\n",
      "118-loss:0.0575\n",
      "119-loss:0.1446\n",
      "120-loss:0.1747\n",
      "121-loss:0.0564\n",
      "122-loss:0.1229\n",
      "123-loss:0.0402\n",
      "124-loss:0.0197\n",
      "125-loss:0.1952\n",
      "126-loss:0.0526\n",
      "127-loss:0.2708\n",
      "128-loss:0.2358\n",
      "129-loss:0.0140\n",
      "130-loss:0.2306\n",
      "131-loss:0.0821\n",
      "132-loss:0.0678\n",
      "133-loss:0.0465\n",
      "134-loss:0.1470\n",
      "135-loss:0.1112\n",
      "136-loss:0.0778\n",
      "137-loss:0.1016\n",
      "138-loss:0.1640\n",
      "139-loss:0.0828\n",
      "140-loss:0.1097\n",
      "141-loss:0.1588\n",
      "142-loss:0.1699\n",
      "143-loss:0.0420\n",
      "144-loss:0.1551\n",
      "145-loss:0.1305\n",
      "146-loss:0.1113\n",
      "147-loss:0.0959\n",
      "148-loss:0.1500\n",
      "149-loss:0.0716\n",
      "150-loss:0.1346\n",
      "151-loss:0.0405\n",
      "152-loss:0.0765\n",
      "153-loss:0.1161\n",
      "154-loss:0.1346\n",
      "155-loss:0.1113\n",
      "156-loss:0.0741\n",
      "157-loss:0.0309\n",
      "158-loss:0.0664\n",
      "159-loss:0.0269\n",
      "160-loss:0.0486\n",
      "161-loss:0.0696\n",
      "162-loss:0.0095\n",
      "163-loss:0.1168\n",
      "Epoch [1/1], Loss: 0.0949, Test Accuracy: 79.65%\n"
     ]
    }
   ],
   "source": [
    "for epoch in range(num_epochs):\n",
    "    model.train()\n",
    "    running_loss = 0.0\n",
    "    n=0\n",
    "    for inputs, labels in train_loader:\n",
    "        optimizer.zero_grad()\n",
    "        y_pred = model(inputs)\n",
    "        loss = criterion(y_pred, labels)\n",
    "        n=n+1\n",
    "        print(f\"{n}-loss:{loss.item():.4f}\")\n",
    "        loss.backward()\n",
    "        optimizer.step()\n",
    "        running_loss += loss.item()\n",
    "    \n",
    "    model.eval()\n",
    "    with torch.no_grad():\n",
    "        test_acc = 0\n",
    "        count = 0\n",
    "        for inputs, labels in test_loader:\n",
    "            y_pred = model(inputs)\n",
    "            test_acc += (torch.argmax(y_pred, 1) == labels).float().sum()\n",
    "            count += len(labels)\n",
    "        test_acc /= count\n",
    "\n",
    "    print(f\"Epoch [{epoch+1}/{num_epochs}], Loss: {running_loss/len(train_loader):.4f}, Test Accuracy: {test_acc*100:.2f}%\")\n"
   ]
  },
  {
   "cell_type": "code",
   "execution_count": 10,
   "metadata": {},
   "outputs": [
    {
     "name": "stdout",
     "output_type": "stream",
     "text": [
      "Predicted: 0, Actual: 0\n",
      "Predicted: 0, Actual: 0\n",
      "Predicted: 0, Actual: 0\n",
      "Predicted: 0, Actual: 0\n",
      "Predicted: 0, Actual: 0\n",
      "Predicted: 0, Actual: 0\n",
      "Predicted: 0, Actual: 0\n",
      "Predicted: 0, Actual: 0\n",
      "Predicted: 1, Actual: 1\n",
      "Predicted: 0, Actual: 1\n",
      "Predicted: 1, Actual: 1\n",
      "Predicted: 0, Actual: 1\n",
      "Predicted: 0, Actual: 1\n",
      "Predicted: 1, Actual: 1\n",
      "Predicted: 1, Actual: 1\n",
      "Predicted: 1, Actual: 1\n",
      "Validation Accuracy: 81.25%\n"
     ]
    }
   ],
   "source": [
    "model.eval()\n",
    "val_acc = 0\n",
    "val_count = 0\n",
    "with torch.no_grad():\n",
    "    for inputs, labels in val_loader:\n",
    "        y_pred = model(inputs)\n",
    "        \n",
    "        # Get predicted and actual labels\n",
    "        predicted_labels = torch.argmax(y_pred, 1)\n",
    "        \n",
    "        # Print predicted and actual values\n",
    "        for pred, actual in zip(predicted_labels, labels):\n",
    "            print(f\"Predicted: {pred.item()}, Actual: {actual.item()}\")\n",
    "        \n",
    "        val_acc += (predicted_labels == labels).float().sum()\n",
    "        val_count += len(labels)\n",
    "val_acc /= val_count\n",
    "print(f\"Validation Accuracy: {val_acc*100:.2f}%\")"
   ]
  },
  {
   "cell_type": "code",
   "execution_count": 11,
   "metadata": {},
   "outputs": [],
   "source": [
    "# Save model\n",
    "torch.save(model.state_dict(), \"lungs.pth\")"
   ]
  },
  {
   "cell_type": "code",
   "execution_count": 12,
   "metadata": {},
   "outputs": [
    {
     "name": "stdout",
     "output_type": "stream",
     "text": [
      "Model has been converted to ONNX format and saved at lungs.onnx\n"
     ]
    }
   ],
   "source": [
    "import torch\n",
    "img_s=(150,150)\n",
    "bat_size=1\n",
    "onnx_model_path='lungs.onnx'\n",
    "model.eval()\n",
    "sample_inp=torch.rand((bat_size,1,*img_s))\n",
    "\n",
    "y=model(sample_inp)\n",
    "torch.onnx.export(\n",
    "    model,\n",
    "    sample_inp,\n",
    "    onnx_model_path,\n",
    "    verbose=False,\n",
    "    input_names=['input'],\n",
    "    output_names=['output'],\n",
    "    opset_version=12\n",
    ")\n",
    "print(f\"Model has been converted to ONNX format and saved at {onnx_model_path}\")"
   ]
  },
  {
   "cell_type": "code",
   "execution_count": 13,
   "metadata": {},
   "outputs": [
    {
     "name": "stderr",
     "output_type": "stream",
     "text": [
      "c:\\Users\\iamgo\\anaconda3\\envs\\myenv\\lib\\site-packages\\tensorflow_addons\\utils\\tfa_eol_msg.py:23: UserWarning: \n",
      "\n",
      "TensorFlow Addons (TFA) has ended development and introduction of new features.\n",
      "TFA has entered a minimal maintenance and release mode until a planned end of life in May 2024.\n",
      "Please modify downstream libraries to take dependencies from other repositories in our TensorFlow community (e.g. Keras, Keras-CV, and Keras-NLP). \n",
      "\n",
      "For more information see: https://github.com/tensorflow/addons/issues/2807 \n",
      "\n",
      "  warnings.warn(\n"
     ]
    }
   ],
   "source": [
    "import onnx\n",
    "from onnx_tf.backend import prepare\n"
   ]
  },
  {
   "cell_type": "code",
   "execution_count": 14,
   "metadata": {},
   "outputs": [
    {
     "name": "stderr",
     "output_type": "stream",
     "text": [
      "INFO:absl:Function `__call__` contains input name(s) x with unsupported characters which will be renamed to transpose_17_x in the SavedModel.\n",
      "INFO:absl:Found untraced functions such as gen_tensor_dict while saving (showing 1 of 1). These functions will not be directly callable after loading.\n"
     ]
    },
    {
     "name": "stdout",
     "output_type": "stream",
     "text": [
      "INFO:tensorflow:Assets written to: model_tf\\assets\n"
     ]
    },
    {
     "name": "stderr",
     "output_type": "stream",
     "text": [
      "INFO:tensorflow:Assets written to: model_tf\\assets\n",
      "INFO:absl:Writing fingerprint to model_tf\\fingerprint.pb\n"
     ]
    }
   ],
   "source": [
    "onnx_model_path='lungs.onnx'\n",
    "tf_model_path='model_tf'\n",
    "onnx_model=onnx.load(onnx_model_path)\n",
    "tf_rep=prepare(onnx_model)\n",
    "tf_rep.export_graph(tf_model_path)"
   ]
  },
  {
   "cell_type": "code",
   "execution_count": 15,
   "metadata": {},
   "outputs": [],
   "source": [
    "import tensorflow as tf\n",
    "saved_model_dir='model_tf'\n",
    "tflite_model_path='model.tflite'"
   ]
  },
  {
   "cell_type": "code",
   "execution_count": 16,
   "metadata": {},
   "outputs": [],
   "source": [
    "converter=tf.lite.TFLiteConverter.from_saved_model(saved_model_dir)\n",
    "tflite_model=converter.convert()"
   ]
  },
  {
   "cell_type": "code",
   "execution_count": 17,
   "metadata": {},
   "outputs": [],
   "source": [
    "with open(tflite_model_path,'wb') as f:\n",
    "    f.write(tflite_model)"
   ]
  },
  {
   "cell_type": "code",
   "execution_count": 18,
   "metadata": {},
   "outputs": [
    {
     "name": "stdout",
     "output_type": "stream",
     "text": [
      "[[ 1.638462  -1.4357557]]\n"
     ]
    }
   ],
   "source": [
    "interpreter=tf.lite.Interpreter(model_path=tflite_model_path)\n",
    "interpreter.allocate_tensors()\n",
    "\n",
    "input_details=interpreter.get_input_details()\n",
    "output_details=interpreter.get_output_details()\n",
    "\n",
    "input_shape=input_details[0]['shape']\n",
    "input_data=np.array(np.random.random_sample(input_shape),dtype=np.float32)\n",
    "\n",
    "interpreter.set_tensor(input_details[0]['index'],input_data)\n",
    "\n",
    "interpreter.invoke()\n",
    "output_data =interpreter.get_tensor(output_details[0]['index'])\n",
    "print(output_data)"
   ]
  },
  {
   "cell_type": "code",
   "execution_count": 20,
   "metadata": {},
   "outputs": [],
   "source": [
    "converter=tf.lite.TFLiteConverter.from_saved_model(saved_model_dir)\n"
   ]
  },
  {
   "cell_type": "code",
   "execution_count": null,
   "metadata": {},
   "outputs": [],
   "source": [
    "%pip install numpy"
   ]
  },
  {
   "cell_type": "code",
   "execution_count": null,
   "metadata": {},
   "outputs": [],
   "source": [
    "%pip install matplotlib"
   ]
  },
  {
   "cell_type": "code",
   "execution_count": null,
   "metadata": {},
   "outputs": [],
   "source": [
    "%pip install onnx\n"
   ]
  },
  {
   "cell_type": "code",
   "execution_count": null,
   "metadata": {},
   "outputs": [],
   "source": [
    "%pip install tensorflow-addons"
   ]
  },
  {
   "cell_type": "code",
   "execution_count": null,
   "metadata": {},
   "outputs": [],
   "source": [
    "!git clone https://github.com/onnx/onnx-tensorflow.git && cd onnx-tensorflow && pip install -e ."
   ]
  },
  {
   "cell_type": "code",
   "execution_count": null,
   "metadata": {},
   "outputs": [],
   "source": [
    "%pip install torch"
   ]
  },
  {
   "cell_type": "code",
   "execution_count": null,
   "metadata": {},
   "outputs": [],
   "source": [
    "%pip install torchvision"
   ]
  },
  {
   "cell_type": "code",
   "execution_count": null,
   "metadata": {},
   "outputs": [],
   "source": [
    "%pip install numpy"
   ]
  },
  {
   "cell_type": "code",
   "execution_count": null,
   "metadata": {},
   "outputs": [],
   "source": [
    "%pip install onnx_tf"
   ]
  }
 ],
 "metadata": {
  "kernelspec": {
   "display_name": "base",
   "language": "python",
   "name": "python3"
  },
  "language_info": {
   "codemirror_mode": {
    "name": "ipython",
    "version": 3
   },
   "file_extension": ".py",
   "mimetype": "text/x-python",
   "name": "python",
   "nbconvert_exporter": "python",
   "pygments_lexer": "ipython3",
   "version": "3.8.19"
  }
 },
 "nbformat": 4,
 "nbformat_minor": 2
}
